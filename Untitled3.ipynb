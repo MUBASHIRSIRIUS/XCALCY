{
  "nbformat": 4,
  "nbformat_minor": 0,
  "metadata": {
    "colab": {
      "provenance": [],
      "authorship_tag": "ABX9TyM588swLjuPyPjAnnhYYQGU",
      "include_colab_link": true
    },
    "kernelspec": {
      "name": "python3",
      "display_name": "Python 3"
    },
    "language_info": {
      "name": "python"
    }
  },
  "cells": [
    {
      "cell_type": "markdown",
      "metadata": {
        "id": "view-in-github",
        "colab_type": "text"
      },
      "source": [
        "<a href=\"https://colab.research.google.com/github/MUBASHIRSIRIUS/XCALCY/blob/main/Untitled3.ipynb\" target=\"_parent\"><img src=\"https://colab.research.google.com/assets/colab-badge.svg\" alt=\"Open In Colab\"/></a>"
      ]
    },
    {
      "cell_type": "code",
      "execution_count": null,
      "metadata": {
        "id": "zZ8DxBrP6RGW"
      },
      "outputs": [],
      "source": [
        "import streamlit as st\n",
        "import math\n",
        "\n",
        "# Define the scientific calculator functions\n",
        "def add(x, y):\n",
        "    return x + y\n",
        "\n",
        "def subtract(x, y):\n",
        "    return x - y\n",
        "\n",
        "def multiply(x, y):\n",
        "    return x * y\n",
        "\n",
        "def divide(x, y):\n",
        "    if y == 0:\n",
        "        return \"Error! Division by zero.\"\n",
        "    else:\n",
        "        return x / y\n",
        "\n",
        "def power(x, y):\n",
        "    return x ** y\n",
        "\n",
        "def sqrt(x):\n",
        "    if x < 0:\n",
        "        return \"Error! Square root of negative number.\"\n",
        "    else:\n",
        "        return math.sqrt(x)\n",
        "\n",
        "def log(x):\n",
        "    if x <= 0:\n",
        "        return \"Error! Logarithm of non-positive number.\"\n",
        "    else:\n",
        "        return math.log(x)\n",
        "\n",
        "def sin(x):\n",
        "    return math.sin(math.radians(x))\n",
        "\n",
        "def cos(x):\n",
        "    return math.cos(math.radians(x))\n",
        "\n",
        "def tan(x):\n",
        "    return math.tan(math.radians(x))\n",
        "\n",
        "# Create the Streamlit interface\n",
        "st.title(\"Scientific Calculator\")\n",
        "\n",
        "# Input fields for numbers\n",
        "num1 = st.number_input(\"Enter first number\", value=0.0, step=0.1)\n",
        "operation = st.radio(\"Choose an operation\", (\"Add\", \"Subtract\", \"Multiply\", \"Divide\", \"Power\", \"Square Root\", \"Logarithm\", \"Sin\", \"Cos\", \"Tan\"))\n",
        "\n",
        "if operation in [\"Add\", \"Subtract\", \"Multiply\", \"Divide\", \"Power\"]:\n",
        "    num2 = st.number_input(\"Enter second number\", value=0.0, step=0.1)\n",
        "else:\n",
        "    num2 = None  # For single input operations\n",
        "\n",
        "# Perform the calculation based on user input\n",
        "if st.button(\"Calculate\"):\n",
        "    if operation == \"Add\":\n",
        "        result = add(num1, num2)\n",
        "        st.write(f\"The result is: {result}\")\n",
        "    elif operation == \"Subtract\":\n",
        "        result = subtract(num1, num2)\n",
        "        st.write(f\"The result is: {result}\")\n",
        "    elif operation == \"Multiply\":\n",
        "        result = multiply(num1, num2)\n",
        "        st.write(f\"The result is: {result}\")\n",
        "    elif operation == \"Divide\":\n",
        "        result = divide(num1, num2)\n",
        "        st.write(f\"The result is: {result}\")\n",
        "    elif operation == \"Power\":\n",
        "        result = power(num1, num2)\n",
        "        st.write(f\"The result is: {result}\")\n",
        "    elif operation == \"Square Root\":\n",
        "        result = sqrt(num1)\n",
        "        st.write(f\"The result is: {result}\")\n",
        "    elif operation == \"Logarithm\":\n",
        "        result = log(num1)\n",
        "        st.write(f\"The result is: {result}\")\n",
        "    elif operation == \"Sin\":\n",
        "        result = sin(num1)\n",
        "        st.write(f\"The result is: {result}\")\n",
        "    elif operation == \"Cos\":\n",
        "        result = cos(num1)\n",
        "        st.write(f\"The result is: {result}\")\n",
        "    elif operation == \"Tan\":\n",
        "        result = tan(num1)\n",
        "        st.write(f\"The result is: {result}\")\n"
      ]
    }
  ]
}