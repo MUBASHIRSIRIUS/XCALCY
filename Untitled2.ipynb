{
  "nbformat": 4,
  "nbformat_minor": 0,
  "metadata": {
    "colab": {
      "provenance": [],
      "authorship_tag": "ABX9TyNOLQw/rBReQLTrlVXn28yz",
      "include_colab_link": true
    },
    "kernelspec": {
      "name": "python3",
      "display_name": "Python 3"
    },
    "language_info": {
      "name": "python"
    }
  },
  "cells": [
    {
      "cell_type": "markdown",
      "metadata": {
        "id": "view-in-github",
        "colab_type": "text"
      },
      "source": [
        "<a href=\"https://colab.research.google.com/github/MUBASHIRSIRIUS/XCALCY/blob/main/Untitled2.ipynb\" target=\"_parent\"><img src=\"https://colab.research.google.com/assets/colab-badge.svg\" alt=\"Open In Colab\"/></a>"
      ]
    },
    {
      "cell_type": "code",
      "source": [
        "# Simple calculator function\n",
        "def calculator():\n",
        "    print(\"Welcome to the Simple Calculator!\")\n",
        "    print(\"Options:\")\n",
        "    print(\"1. Add\")\n",
        "    print(\"2. Subtract\")\n",
        "    print(\"3. Multiply\")\n",
        "    print(\"4. Divide\")\n",
        "\n",
        "    # Take input from the user\n",
        "    choice = input(\"Enter the operation number (1/2/3/4): \")\n",
        "\n",
        "    if choice in ['1', '2', '3', '4']:\n",
        "        num1 = float(input(\"Enter first number: \"))\n",
        "        num2 = float(input(\"Enter second number: \"))\n",
        "\n",
        "        if choice == '1':\n",
        "            print(f\"The result is: {num1 + num2}\")\n",
        "        elif choice == '2':\n",
        "            print(f\"The result is: {num1 - num2}\")\n",
        "        elif choice == '3':\n",
        "            print(f\"The result is: {num1 * num2}\")\n",
        "        elif choice == '4':\n",
        "            if num2 != 0:\n",
        "                print(f\"The result is: {num1 / num2}\")\n",
        "            else:\n",
        "                print(\"Error! Division by zero.\")\n",
        "    else:\n",
        "        print(\"Invalid input. Please enter a valid option.\")\n",
        "\n",
        "# Call the calculator function\n",
        "calculator()\n"
      ],
      "metadata": {
        "id": "ZrD5Wc1p7Pn3",
        "colab": {
          "base_uri": "https://localhost:8080/"
        },
        "outputId": "82567591-c986-4999-aa3a-8a2c8b26d66e"
      },
      "execution_count": 6,
      "outputs": [
        {
          "output_type": "stream",
          "name": "stdout",
          "text": [
            "Welcome to the Simple Calculator!\n",
            "Options:\n",
            "1. Add\n",
            "2. Subtract\n",
            "3. Multiply\n",
            "4. Divide\n",
            "Enter the operation number (1/2/3/4): 1\n",
            "Enter first number: 12\n",
            "Enter second number: 12\n",
            "The result is: 24.0\n"
          ]
        }
      ]
    }
  ]
}